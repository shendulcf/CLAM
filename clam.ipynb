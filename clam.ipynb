{
 "cells": [
  {
   "cell_type": "code",
   "execution_count": 12,
   "metadata": {},
   "outputs": [
    {
     "name": "stdout",
     "output_type": "stream",
     "text": [
      "<HDF5 dataset \"coords\": shape (2989, 2), type \"<i4\">\n"
     ]
    },
    {
     "data": {
      "text/plain": [
       "(2989, 2)"
      ]
     },
     "execution_count": 12,
     "metadata": {},
     "output_type": "execute_result"
    }
   ],
   "source": [
    "import h5py\n",
    "path = r'E:\\Workspace\\Project\\CLAM\\data\\RESULTS_DIRECTORY\\patches\\TCGA-A6-2671-01A-01-BS1.h5'\n",
    "f = h5py.File(path,'r')\n",
    "f.keys()\n",
    "data = f.get('coords')\n",
    "print(data)\n",
    "data.shape\n",
    "\n"
   ]
  },
  {
   "cell_type": "markdown",
   "metadata": {},
   "source": [
    "## Step_1 get patch\n",
    "\n",
    "source svs 文件地址\\\n",
    "save_dir 结果文件\\"
   ]
  },
  {
   "cell_type": "code",
   "execution_count": null,
   "metadata": {},
   "outputs": [],
   "source": [
    "'''\n",
    "python create_patches_fp.py \\\n",
    "--source 'svs_dir' \\\n",
    "--save_dir 'result_dir' \\\n",
    "--patch_size 256 \\\n",
    "--seg \\ # 分割=True\n",
    "--patch \\ # 切分patch=True\n",
    "--stitch \\ # \n",
    "process_list_autogen.csv # 这里记录了每张 image 的处理的参数\n",
    "'''\n"
   ]
  },
  {
   "cell_type": "markdown",
   "metadata": {},
   "source": [
    "## Step_2 get patch features\n",
    "data_h5_dir  输出文件地址\\\n",
    "data_slide_dir svs文件地址\\\n",
    "上一步生成的csv csv_path\\\n",
    "feat_dir 输出文件地址\\\n"
   ]
  },
  {
   "cell_type": "code",
   "execution_count": null,
   "metadata": {},
   "outputs": [],
   "source": [
    "'''\n",
    "CUDA_VISIBLE_DEVICES=0 python extract_features_fp.py \\\n",
    "--data_h5_dir /media/yuansh/14THHD/CLAM/toy_test \\\n",
    "--data_slide_dir /media/yuansh/14THHD/CLAM/DataSet/toy_example \\\n",
    "--csv_path /media/yuansh/14THHD/CLAM/Step_2.csv \\\n",
    "--feat_dir /media/yuansh/14THHD/CLAM/FEATURES_DIRECTORY \\\n",
    "--batch_size 512 \\\n",
    "--slide_ext .svs\n",
    "'''\n",
    "!python extract_features_fp.py\\\n",
    "    --data_h5_dir E:\\Workspace\\Project\\CLAM\\data\\RESULTS_DIRECTORY \\\n",
    "    --data_slide_dir F:/Download/TCGA \\\n",
    "    --csv_path data\\RESULTS_DIRECTORY\\Step_2.csv \\\n",
    "    --feat_dir E:\\Workspace\\Project\\CLAM\\data\\FEATURES_DIRECTORY \\\n",
    "    --batch_size 256 \\\n",
    "    --slide_ext .svs"
   ]
  },
  {
   "cell_type": "code",
   "execution_count": null,
   "metadata": {},
   "outputs": [],
   "source": [
    "\n"
   ]
  }
 ],
 "metadata": {
  "kernelspec": {
   "display_name": "Python 3.9.7 ('test')",
   "language": "python",
   "name": "python3"
  },
  "language_info": {
   "codemirror_mode": {
    "name": "ipython",
    "version": 3
   },
   "file_extension": ".py",
   "mimetype": "text/x-python",
   "name": "python",
   "nbconvert_exporter": "python",
   "pygments_lexer": "ipython3",
   "version": "3.9.7"
  },
  "orig_nbformat": 4,
  "vscode": {
   "interpreter": {
    "hash": "1ba69ead3279dcefa2bd7fda5deb51a7e26be9b05f7bd0cbc7b7763c85faaf54"
   }
  }
 },
 "nbformat": 4,
 "nbformat_minor": 2
}
