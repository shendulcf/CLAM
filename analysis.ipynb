{
 "cells": [
  {
   "cell_type": "code",
   "execution_count": null,
   "metadata": {},
   "outputs": [],
   "source": [
    "import h5py\n",
    "import torch\n",
    "coords_path = ''\n",
    "coords = h5py.File(coords_path, 'r')['coords'][:]\n",
    "# coords is a array like:\n",
    "# [[x1, y1], [x2, y2], ...]\n",
    "\n",
    "features_path = ''\n",
    "features = torch.load(features_path, map_location=torch.device('cpu'))\n",
    "# features is a tensor with dimension N*F, and if features are extracted using CTransPath, F is 768"
   ]
  }
 ],
 "metadata": {
  "language_info": {
   "name": "python"
  },
  "orig_nbformat": 4
 },
 "nbformat": 4,
 "nbformat_minor": 2
}
