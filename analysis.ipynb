{
 "cells": [
  {
   "cell_type": "code",
   "execution_count": 14,
   "metadata": {},
   "outputs": [
    {
     "data": {
      "text/plain": [
       "4"
      ]
     },
     "execution_count": 14,
     "metadata": {},
     "output_type": "execute_result"
    }
   ],
   "source": [
    "import h5py\n",
    "import torch\n",
    "coords_path = ''\n",
    "# coords = h5py.File(coords_path, 'r')['coords'][:]\n",
    "# coords is a array like:\n",
    "# [[x1, y1], [x2, y2], ...]\n",
    "\n",
    "features_path = ''\n",
    "# features = torch.load(features_path, map_location=torch.device('cpu'))\n",
    "# features is a tensor with dimension N*F, and if features are extracted using CTransPath, F is 768\n",
    "\n",
    "patch_path = '/home/sci/Disk_data/Datasets/TCGA-NSCLC/BLOCKS_level-1/patches/TCGA-18-3409-11A-01-TS1.h5'\n",
    "patch = h5py.File(patch_path, 'r')\n",
    "patch['coords'].__len__()"
   ]
  },
  {
   "cell_type": "code",
   "execution_count": null,
   "metadata": {},
   "outputs": [],
   "source": [
    "import numpy as np\n",
    "import pandas as pd\n",
    "import os\n",
    "\n",
    "def save_splits(split_datasets, column_keys, filename, boolean_style=False):\n",
    "\tsplits = [split_datasets[i].slide_data['slide_id'] for i in range(len(split_datasets))]\n",
    "\tif not boolean_style:\n",
    "\t\tdf = pd.concat(splits, ignore_index=True, axis=1)\n",
    "\t\tdf.columns = column_keys\n",
    "\telse:\n",
    "\t\tdf = pd.concat(splits, ignore_index = True, axis=0)\n",
    "\t\tindex = df.values.tolist()\n",
    "\t\tone_hot = np.eye(len(split_datasets)).astype(bool)\n",
    "\t\tbool_array = np.repeat(one_hot, [len(dset) for dset in split_datasets], axis=0) # 生成对应数量len(dset)的单位矩阵\n",
    "\t\tdf = pd.DataFrame(bool_array, index=index, columns = ['train', 'val', 'test'])\n",
    "\n",
    "\tdf.to_csv(filename)\n",
    "\tprint()\n",
    "\n",
    "splits = \n",
    "save_splits(\n",
    "\tsplits,\n",
    "\t['train', 'val', 'test'],\n",
    "\tos.path.join('splits', f'splits_{i}.csv'),\n",
    ")\n"
   ]
  },
  {
   "cell_type": "code",
   "execution_count": null,
   "metadata": {},
   "outputs": [],
   "source": []
  }
 ],
 "metadata": {
  "kernelspec": {
   "display_name": "lcf",
   "language": "python",
   "name": "python3"
  },
  "language_info": {
   "codemirror_mode": {
    "name": "ipython",
    "version": 3
   },
   "file_extension": ".py",
   "mimetype": "text/x-python",
   "name": "python",
   "nbconvert_exporter": "python",
   "pygments_lexer": "ipython3",
   "version": "3.9.13"
  },
  "orig_nbformat": 4
 },
 "nbformat": 4,
 "nbformat_minor": 2
}
