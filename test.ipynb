{
 "cells": [
  {
   "cell_type": "code",
   "execution_count": 4,
   "metadata": {},
   "outputs": [
    {
     "data": {
      "text/plain": [
       "<HDF5 dataset \"attention_scores\": shape (6276, 1), type \"<f4\">"
      ]
     },
     "execution_count": 4,
     "metadata": {},
     "output_type": "execute_result"
    }
   ],
   "source": [
    "import h5py\n",
    "import os\n",
    "path = r'heatmaps/nsclc_raw_results/NSCLC_OUTPUT/LUAD/LUAD-TCGA-49-4494-01Z-00-DX2/LUAD-TCGA-49-4494-01Z-00-DX2_blockmap.h5'\n",
    "num_patches = 0\n",
    "num_wsis = 0\n",
    "\n",
    "f = h5py.File(path,'r')\n",
    "f.keys()\n",
    "data = f.get('attention_scores')\n",
    "data\n"
   ]
  }
 ],
 "metadata": {
  "kernelspec": {
   "display_name": "lcf",
   "language": "python",
   "name": "python3"
  },
  "language_info": {
   "codemirror_mode": {
    "name": "ipython",
    "version": 3
   },
   "file_extension": ".py",
   "mimetype": "text/x-python",
   "name": "python",
   "nbconvert_exporter": "python",
   "pygments_lexer": "ipython3",
   "version": "3.9.13"
  }
 },
 "nbformat": 4,
 "nbformat_minor": 2
}
