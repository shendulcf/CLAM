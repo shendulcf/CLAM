{
 "cells": [
  {
   "cell_type": "code",
   "execution_count": 1,
   "metadata": {},
   "outputs": [
    {
     "name": "stdout",
     "output_type": "stream",
     "text": [
      "[INFO] Register count_convNd() for <class 'torch.nn.modules.conv.Conv2d'>.\n",
      "[INFO] Register count_normalization() for <class 'torch.nn.modules.batchnorm.BatchNorm2d'>.\n",
      "[INFO] Register zero_ops() for <class 'torch.nn.modules.activation.ReLU'>.\n",
      "[INFO] Register zero_ops() for <class 'torch.nn.modules.pooling.MaxPool2d'>.\n",
      "[INFO] Register zero_ops() for <class 'torch.nn.modules.container.Sequential'>.\n",
      "[INFO] Register count_adap_avgpool() for <class 'torch.nn.modules.pooling.AdaptiveAvgPool2d'>.\n",
      "[INFO] Register count_linear() for <class 'torch.nn.modules.linear.Linear'>.\n",
      "1.824033792 11.689512\n"
     ]
    }
   ],
   "source": [
    "import torch\n",
    "from torchvision.models import resnet18\n",
    "from thop import profile\n",
    "model = resnet18()\n",
    "input = torch.randn(1, 3, 224, 224) #模型输入的形状,batch_size=1\n",
    "flops, params = profile(model, inputs=(input, ))\n",
    "print(flops/1e9,params/1e6) #flops单位G，para单位M"
   ]
  },
  {
   "cell_type": "code",
   "execution_count": 12,
   "metadata": {},
   "outputs": [
    {
     "name": "stdout",
     "output_type": "stream",
     "text": [
      "[INFO] Register count_linear() for <class 'torch.nn.modules.linear.Linear'>.\n",
      "[INFO] Register zero_ops() for <class 'torch.nn.modules.activation.ReLU'>.\n",
      "[INFO] Register zero_ops() for <class 'torch.nn.modules.container.Sequential'>.\n",
      "[INFO] Register count_normalization() for <class 'torch.nn.modules.normalization.LayerNorm'>.\n",
      "[INFO] Register zero_ops() for <class 'torch.nn.modules.dropout.Dropout'>.\n",
      "[INFO] Register count_convNd() for <class 'torch.nn.modules.conv.Conv2d'>.\n",
      "FLOPS:30.644732928G,Params:25.997635M\n"
     ]
    }
   ],
   "source": [
    "import torch\n",
    "from models.model_clam import CLAM_SB, CLAM_MB\n",
    "from models.model_TransformerMIL import TransformerMIL_SB as TM\n",
    "from models.model_MCBAT import MCBAT_SB\n",
    "from thop import profile\n",
    "\n",
    "model = MCBAT_SB()\n",
    "input = torch.randn(100,1024)\n",
    "input2 = torch.randn(2048,1024)\n",
    "flops, params = profile(model, inputs=(input, input2))\n",
    "print(f'FLOPS:{flops/1e9}G,Params:{params/1e6}M')"
   ]
  },
  {
   "cell_type": "code",
   "execution_count": 17,
   "metadata": {},
   "outputs": [
    {
     "name": "stdout",
     "output_type": "stream",
     "text": [
      "[INFO] Register count_linear() for <class 'torch.nn.modules.linear.Linear'>.\n",
      "[INFO] Register zero_ops() for <class 'torch.nn.modules.activation.ReLU'>.\n",
      "[INFO] Register zero_ops() for <class 'torch.nn.modules.container.Sequential'>.\n",
      "FLOPS:1.075838976G,Params:0.525826M\n"
     ]
    }
   ],
   "source": [
    "import torch\n",
    "from models.model_clam import CLAM_SB, CLAM_MB\n",
    "from models.model_TransformerMIL import TransformerMIL_SB as TM\n",
    "from models.model_mil import MIL_fc\n",
    "from models.model_MCBAT import MCBAT_SB\n",
    "from thop import profile\n",
    "\n",
    "model = MIL_fc()\n",
    "input = torch.randn(2048,1024)\n",
    "flops, params = profile(model, inputs=(input, ))\n",
    "print(f'FLOPS:{flops/1e9}G,Params:{params/1e6}M')"
   ]
  }
 ],
 "metadata": {
  "kernelspec": {
   "display_name": "gpu",
   "language": "python",
   "name": "python3"
  },
  "language_info": {
   "codemirror_mode": {
    "name": "ipython",
    "version": 3
   },
   "file_extension": ".py",
   "mimetype": "text/x-python",
   "name": "python",
   "nbconvert_exporter": "python",
   "pygments_lexer": "ipython3",
   "version": "3.11.4"
  }
 },
 "nbformat": 4,
 "nbformat_minor": 2
}
